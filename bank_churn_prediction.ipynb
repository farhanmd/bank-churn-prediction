{
 "cells": [
  {
   "cell_type": "markdown",
   "metadata": {},
   "source": [
    "### Import Libraries"
   ]
  },
  {
   "cell_type": "code",
   "execution_count": 1,
   "metadata": {},
   "outputs": [],
   "source": [
    "import pandas as pd\n",
    "import numpy as np\n",
    "import matplotlib.pyplot as plt\n",
    "%matplotlib inline\n",
    "import seaborn as sns\n",
    "import warnings\n",
    "pd.set_option('display.max_rows', 500)\n",
    "pd.set_option('display.max_columns', 500)"
   ]
  },
  {
   "cell_type": "code",
   "execution_count": 3,
   "metadata": {},
   "outputs": [
    {
     "name": "stdout",
     "output_type": "stream",
     "text": [
      "2.0.0\n"
     ]
    }
   ],
   "source": [
    "import tensorflow as tf\n",
    "print(tf.__version__)"
   ]
  },
  {
   "cell_type": "markdown",
   "metadata": {},
   "source": [
    "### Read the dataset"
   ]
  },
  {
   "cell_type": "code",
   "execution_count": 4,
   "metadata": {},
   "outputs": [],
   "source": [
    "df = pd.read_csv('bank.csv')"
   ]
  },
  {
   "cell_type": "code",
   "execution_count": 5,
   "metadata": {},
   "outputs": [
    {
     "data": {
      "text/plain": [
       "(10000, 14)"
      ]
     },
     "execution_count": 5,
     "metadata": {},
     "output_type": "execute_result"
    }
   ],
   "source": [
    "df.shape"
   ]
  },
  {
   "cell_type": "code",
   "execution_count": 6,
   "metadata": {
    "scrolled": true
   },
   "outputs": [
    {
     "data": {
      "text/html": [
       "<div>\n",
       "<style scoped>\n",
       "    .dataframe tbody tr th:only-of-type {\n",
       "        vertical-align: middle;\n",
       "    }\n",
       "\n",
       "    .dataframe tbody tr th {\n",
       "        vertical-align: top;\n",
       "    }\n",
       "\n",
       "    .dataframe thead th {\n",
       "        text-align: right;\n",
       "    }\n",
       "</style>\n",
       "<table border=\"1\" class=\"dataframe\">\n",
       "  <thead>\n",
       "    <tr style=\"text-align: right;\">\n",
       "      <th></th>\n",
       "      <th>RowNumber</th>\n",
       "      <th>CustomerId</th>\n",
       "      <th>Surname</th>\n",
       "      <th>CreditScore</th>\n",
       "      <th>Geography</th>\n",
       "      <th>Gender</th>\n",
       "      <th>Age</th>\n",
       "      <th>Tenure</th>\n",
       "      <th>Balance</th>\n",
       "      <th>NumOfProducts</th>\n",
       "      <th>HasCrCard</th>\n",
       "      <th>IsActiveMember</th>\n",
       "      <th>EstimatedSalary</th>\n",
       "      <th>Exited</th>\n",
       "    </tr>\n",
       "  </thead>\n",
       "  <tbody>\n",
       "    <tr>\n",
       "      <td>0</td>\n",
       "      <td>1</td>\n",
       "      <td>15634602</td>\n",
       "      <td>Hargrave</td>\n",
       "      <td>619</td>\n",
       "      <td>France</td>\n",
       "      <td>Female</td>\n",
       "      <td>42</td>\n",
       "      <td>2</td>\n",
       "      <td>0.00</td>\n",
       "      <td>1</td>\n",
       "      <td>1</td>\n",
       "      <td>1</td>\n",
       "      <td>101348.88</td>\n",
       "      <td>1</td>\n",
       "    </tr>\n",
       "    <tr>\n",
       "      <td>1</td>\n",
       "      <td>2</td>\n",
       "      <td>15647311</td>\n",
       "      <td>Hill</td>\n",
       "      <td>608</td>\n",
       "      <td>Spain</td>\n",
       "      <td>Female</td>\n",
       "      <td>41</td>\n",
       "      <td>1</td>\n",
       "      <td>83807.86</td>\n",
       "      <td>1</td>\n",
       "      <td>0</td>\n",
       "      <td>1</td>\n",
       "      <td>112542.58</td>\n",
       "      <td>0</td>\n",
       "    </tr>\n",
       "    <tr>\n",
       "      <td>2</td>\n",
       "      <td>3</td>\n",
       "      <td>15619304</td>\n",
       "      <td>Onio</td>\n",
       "      <td>502</td>\n",
       "      <td>France</td>\n",
       "      <td>Female</td>\n",
       "      <td>42</td>\n",
       "      <td>8</td>\n",
       "      <td>159660.80</td>\n",
       "      <td>3</td>\n",
       "      <td>1</td>\n",
       "      <td>0</td>\n",
       "      <td>113931.57</td>\n",
       "      <td>1</td>\n",
       "    </tr>\n",
       "    <tr>\n",
       "      <td>3</td>\n",
       "      <td>4</td>\n",
       "      <td>15701354</td>\n",
       "      <td>Boni</td>\n",
       "      <td>699</td>\n",
       "      <td>France</td>\n",
       "      <td>Female</td>\n",
       "      <td>39</td>\n",
       "      <td>1</td>\n",
       "      <td>0.00</td>\n",
       "      <td>2</td>\n",
       "      <td>0</td>\n",
       "      <td>0</td>\n",
       "      <td>93826.63</td>\n",
       "      <td>0</td>\n",
       "    </tr>\n",
       "    <tr>\n",
       "      <td>4</td>\n",
       "      <td>5</td>\n",
       "      <td>15737888</td>\n",
       "      <td>Mitchell</td>\n",
       "      <td>850</td>\n",
       "      <td>Spain</td>\n",
       "      <td>Female</td>\n",
       "      <td>43</td>\n",
       "      <td>2</td>\n",
       "      <td>125510.82</td>\n",
       "      <td>1</td>\n",
       "      <td>1</td>\n",
       "      <td>1</td>\n",
       "      <td>79084.10</td>\n",
       "      <td>0</td>\n",
       "    </tr>\n",
       "  </tbody>\n",
       "</table>\n",
       "</div>"
      ],
      "text/plain": [
       "   RowNumber  CustomerId   Surname  CreditScore Geography  Gender  Age  \\\n",
       "0          1    15634602  Hargrave          619    France  Female   42   \n",
       "1          2    15647311      Hill          608     Spain  Female   41   \n",
       "2          3    15619304      Onio          502    France  Female   42   \n",
       "3          4    15701354      Boni          699    France  Female   39   \n",
       "4          5    15737888  Mitchell          850     Spain  Female   43   \n",
       "\n",
       "   Tenure    Balance  NumOfProducts  HasCrCard  IsActiveMember  \\\n",
       "0       2       0.00              1          1               1   \n",
       "1       1   83807.86              1          0               1   \n",
       "2       8  159660.80              3          1               0   \n",
       "3       1       0.00              2          0               0   \n",
       "4       2  125510.82              1          1               1   \n",
       "\n",
       "   EstimatedSalary  Exited  \n",
       "0        101348.88       1  \n",
       "1        112542.58       0  \n",
       "2        113931.57       1  \n",
       "3         93826.63       0  \n",
       "4         79084.10       0  "
      ]
     },
     "execution_count": 6,
     "metadata": {},
     "output_type": "execute_result"
    }
   ],
   "source": [
    "df.head()"
   ]
  },
  {
   "cell_type": "code",
   "execution_count": 7,
   "metadata": {},
   "outputs": [
    {
     "name": "stdout",
     "output_type": "stream",
     "text": [
      "<class 'pandas.core.frame.DataFrame'>\n",
      "RangeIndex: 10000 entries, 0 to 9999\n",
      "Data columns (total 14 columns):\n",
      "RowNumber          10000 non-null int64\n",
      "CustomerId         10000 non-null int64\n",
      "Surname            10000 non-null object\n",
      "CreditScore        10000 non-null int64\n",
      "Geography          10000 non-null object\n",
      "Gender             10000 non-null object\n",
      "Age                10000 non-null int64\n",
      "Tenure             10000 non-null int64\n",
      "Balance            10000 non-null float64\n",
      "NumOfProducts      10000 non-null int64\n",
      "HasCrCard          10000 non-null int64\n",
      "IsActiveMember     10000 non-null int64\n",
      "EstimatedSalary    10000 non-null float64\n",
      "Exited             10000 non-null int64\n",
      "dtypes: float64(2), int64(9), object(3)\n",
      "memory usage: 1.1+ MB\n"
     ]
    }
   ],
   "source": [
    "df.info()"
   ]
  },
  {
   "cell_type": "markdown",
   "metadata": {},
   "source": [
    "- The dataset consist of 3 categorical columns and 11 numerical columns\n",
    "- There are no null values in the dataset"
   ]
  },
  {
   "cell_type": "code",
   "execution_count": 8,
   "metadata": {},
   "outputs": [
    {
     "data": {
      "text/html": [
       "<div>\n",
       "<style scoped>\n",
       "    .dataframe tbody tr th:only-of-type {\n",
       "        vertical-align: middle;\n",
       "    }\n",
       "\n",
       "    .dataframe tbody tr th {\n",
       "        vertical-align: top;\n",
       "    }\n",
       "\n",
       "    .dataframe thead th {\n",
       "        text-align: right;\n",
       "    }\n",
       "</style>\n",
       "<table border=\"1\" class=\"dataframe\">\n",
       "  <thead>\n",
       "    <tr style=\"text-align: right;\">\n",
       "      <th></th>\n",
       "      <th>RowNumber</th>\n",
       "      <th>CustomerId</th>\n",
       "      <th>CreditScore</th>\n",
       "      <th>Age</th>\n",
       "      <th>Tenure</th>\n",
       "      <th>Balance</th>\n",
       "      <th>NumOfProducts</th>\n",
       "      <th>HasCrCard</th>\n",
       "      <th>IsActiveMember</th>\n",
       "      <th>EstimatedSalary</th>\n",
       "      <th>Exited</th>\n",
       "    </tr>\n",
       "  </thead>\n",
       "  <tbody>\n",
       "    <tr>\n",
       "      <td>count</td>\n",
       "      <td>10000.00000</td>\n",
       "      <td>1.000000e+04</td>\n",
       "      <td>10000.000000</td>\n",
       "      <td>10000.000000</td>\n",
       "      <td>10000.000000</td>\n",
       "      <td>10000.000000</td>\n",
       "      <td>10000.000000</td>\n",
       "      <td>10000.00000</td>\n",
       "      <td>10000.000000</td>\n",
       "      <td>10000.000000</td>\n",
       "      <td>10000.000000</td>\n",
       "    </tr>\n",
       "    <tr>\n",
       "      <td>mean</td>\n",
       "      <td>5000.50000</td>\n",
       "      <td>1.569094e+07</td>\n",
       "      <td>650.528800</td>\n",
       "      <td>38.921800</td>\n",
       "      <td>5.012800</td>\n",
       "      <td>76485.889288</td>\n",
       "      <td>1.530200</td>\n",
       "      <td>0.70550</td>\n",
       "      <td>0.515100</td>\n",
       "      <td>100090.239881</td>\n",
       "      <td>0.203700</td>\n",
       "    </tr>\n",
       "    <tr>\n",
       "      <td>std</td>\n",
       "      <td>2886.89568</td>\n",
       "      <td>7.193619e+04</td>\n",
       "      <td>96.653299</td>\n",
       "      <td>10.487806</td>\n",
       "      <td>2.892174</td>\n",
       "      <td>62397.405202</td>\n",
       "      <td>0.581654</td>\n",
       "      <td>0.45584</td>\n",
       "      <td>0.499797</td>\n",
       "      <td>57510.492818</td>\n",
       "      <td>0.402769</td>\n",
       "    </tr>\n",
       "    <tr>\n",
       "      <td>min</td>\n",
       "      <td>1.00000</td>\n",
       "      <td>1.556570e+07</td>\n",
       "      <td>350.000000</td>\n",
       "      <td>18.000000</td>\n",
       "      <td>0.000000</td>\n",
       "      <td>0.000000</td>\n",
       "      <td>1.000000</td>\n",
       "      <td>0.00000</td>\n",
       "      <td>0.000000</td>\n",
       "      <td>11.580000</td>\n",
       "      <td>0.000000</td>\n",
       "    </tr>\n",
       "    <tr>\n",
       "      <td>25%</td>\n",
       "      <td>2500.75000</td>\n",
       "      <td>1.562853e+07</td>\n",
       "      <td>584.000000</td>\n",
       "      <td>32.000000</td>\n",
       "      <td>3.000000</td>\n",
       "      <td>0.000000</td>\n",
       "      <td>1.000000</td>\n",
       "      <td>0.00000</td>\n",
       "      <td>0.000000</td>\n",
       "      <td>51002.110000</td>\n",
       "      <td>0.000000</td>\n",
       "    </tr>\n",
       "    <tr>\n",
       "      <td>50%</td>\n",
       "      <td>5000.50000</td>\n",
       "      <td>1.569074e+07</td>\n",
       "      <td>652.000000</td>\n",
       "      <td>37.000000</td>\n",
       "      <td>5.000000</td>\n",
       "      <td>97198.540000</td>\n",
       "      <td>1.000000</td>\n",
       "      <td>1.00000</td>\n",
       "      <td>1.000000</td>\n",
       "      <td>100193.915000</td>\n",
       "      <td>0.000000</td>\n",
       "    </tr>\n",
       "    <tr>\n",
       "      <td>75%</td>\n",
       "      <td>7500.25000</td>\n",
       "      <td>1.575323e+07</td>\n",
       "      <td>718.000000</td>\n",
       "      <td>44.000000</td>\n",
       "      <td>7.000000</td>\n",
       "      <td>127644.240000</td>\n",
       "      <td>2.000000</td>\n",
       "      <td>1.00000</td>\n",
       "      <td>1.000000</td>\n",
       "      <td>149388.247500</td>\n",
       "      <td>0.000000</td>\n",
       "    </tr>\n",
       "    <tr>\n",
       "      <td>max</td>\n",
       "      <td>10000.00000</td>\n",
       "      <td>1.581569e+07</td>\n",
       "      <td>850.000000</td>\n",
       "      <td>92.000000</td>\n",
       "      <td>10.000000</td>\n",
       "      <td>250898.090000</td>\n",
       "      <td>4.000000</td>\n",
       "      <td>1.00000</td>\n",
       "      <td>1.000000</td>\n",
       "      <td>199992.480000</td>\n",
       "      <td>1.000000</td>\n",
       "    </tr>\n",
       "  </tbody>\n",
       "</table>\n",
       "</div>"
      ],
      "text/plain": [
       "         RowNumber    CustomerId   CreditScore           Age        Tenure  \\\n",
       "count  10000.00000  1.000000e+04  10000.000000  10000.000000  10000.000000   \n",
       "mean    5000.50000  1.569094e+07    650.528800     38.921800      5.012800   \n",
       "std     2886.89568  7.193619e+04     96.653299     10.487806      2.892174   \n",
       "min        1.00000  1.556570e+07    350.000000     18.000000      0.000000   \n",
       "25%     2500.75000  1.562853e+07    584.000000     32.000000      3.000000   \n",
       "50%     5000.50000  1.569074e+07    652.000000     37.000000      5.000000   \n",
       "75%     7500.25000  1.575323e+07    718.000000     44.000000      7.000000   \n",
       "max    10000.00000  1.581569e+07    850.000000     92.000000     10.000000   \n",
       "\n",
       "             Balance  NumOfProducts    HasCrCard  IsActiveMember  \\\n",
       "count   10000.000000   10000.000000  10000.00000    10000.000000   \n",
       "mean    76485.889288       1.530200      0.70550        0.515100   \n",
       "std     62397.405202       0.581654      0.45584        0.499797   \n",
       "min         0.000000       1.000000      0.00000        0.000000   \n",
       "25%         0.000000       1.000000      0.00000        0.000000   \n",
       "50%     97198.540000       1.000000      1.00000        1.000000   \n",
       "75%    127644.240000       2.000000      1.00000        1.000000   \n",
       "max    250898.090000       4.000000      1.00000        1.000000   \n",
       "\n",
       "       EstimatedSalary        Exited  \n",
       "count     10000.000000  10000.000000  \n",
       "mean     100090.239881      0.203700  \n",
       "std       57510.492818      0.402769  \n",
       "min          11.580000      0.000000  \n",
       "25%       51002.110000      0.000000  \n",
       "50%      100193.915000      0.000000  \n",
       "75%      149388.247500      0.000000  \n",
       "max      199992.480000      1.000000  "
      ]
     },
     "execution_count": 8,
     "metadata": {},
     "output_type": "execute_result"
    }
   ],
   "source": [
    "df.describe()"
   ]
  },
  {
   "cell_type": "code",
   "execution_count": 9,
   "metadata": {},
   "outputs": [
    {
     "name": "stdout",
     "output_type": "stream",
     "text": [
      "0    7963\n",
      "1    2037\n",
      "Name: Exited, dtype: int64\n",
      "0    79.63\n",
      "1    20.37\n",
      "Name: Exited, dtype: float64\n"
     ]
    }
   ],
   "source": [
    "print(df['Exited'].value_counts(dropna=False))\n",
    "print(df['Exited'].value_counts(dropna=False, normalize=True)*100)"
   ]
  },
  {
   "cell_type": "markdown",
   "metadata": {},
   "source": [
    "- The average credit score of customers is 650\n",
    "- The average age for customer is 38 while the minimum customer age is 18 which confirms all customers are above the age limit to qualify for a bank account\n",
    "- The average customr tenure is 5 years while maximum tenure is 10 years. \n",
    "- The average account balance for customer is 76485\n",
    "- On average around 70% of all customers has a credit card associated with the bank\n",
    "- About 50% of overall customers are active members\n",
    "- Average customer salary is around 100k\n",
    "- About 20% of all customers in the data exited which represents a farly imbalanced dataset"
   ]
  },
  {
   "cell_type": "markdown",
   "metadata": {},
   "source": [
    "### Drop the columns which are unique for all users like IDs"
   ]
  },
  {
   "cell_type": "code",
   "execution_count": 10,
   "metadata": {},
   "outputs": [
    {
     "data": {
      "text/plain": [
       "RowNumber     1.0\n",
       "CustomerId    1.0\n",
       "dtype: float64"
      ]
     },
     "execution_count": 10,
     "metadata": {},
     "output_type": "execute_result"
    }
   ],
   "source": [
    "df[['RowNumber', 'CustomerId']].nunique() / len(df)"
   ]
  },
  {
   "cell_type": "markdown",
   "metadata": {},
   "source": [
    "We will drop these 2 columns since they are 100% unique and does not add value"
   ]
  },
  {
   "cell_type": "code",
   "execution_count": 11,
   "metadata": {},
   "outputs": [],
   "source": [
    "df.drop(['RowNumber', 'CustomerId'], axis=1, inplace=True)"
   ]
  },
  {
   "cell_type": "code",
   "execution_count": 12,
   "metadata": {},
   "outputs": [
    {
     "data": {
      "text/plain": [
       "(10000, 12)"
      ]
     },
     "execution_count": 12,
     "metadata": {},
     "output_type": "execute_result"
    }
   ],
   "source": [
    "df.shape"
   ]
  },
  {
   "cell_type": "markdown",
   "metadata": {},
   "source": [
    "### Perform bivariate analysis and give your insights from the same (5 points) "
   ]
  },
  {
   "cell_type": "code",
   "execution_count": 13,
   "metadata": {},
   "outputs": [
    {
     "data": {
      "image/png": "[encoded data removed]",
      "text/plain": [
       "<Figure size 1080x504 with 2 Axes>"
      ]
     },
     "metadata": {
      "needs_background": "light"
     },
     "output_type": "display_data"
    }
   ],
   "source": [
    "plt.figure(figsize=(15,7))\n",
    "sns.heatmap(df.corr(),annot=True)\n",
    "plt.show()"
   ]
  },
  {
   "cell_type": "markdown",
   "metadata": {},
   "source": [
    "Insights:\n",
    "- Age and Exited is positively correlated with correlation of ~0.3\n",
    "- NumOfProducts and Balance is negatively correlated with correlation of -0.3. "
   ]
  },
  {
   "cell_type": "code",
   "execution_count": 14,
   "metadata": {},
   "outputs": [
    {
     "data": {
      "text/plain": [
       "Index(['Surname', 'CreditScore', 'Geography', 'Gender', 'Age', 'Tenure',\n",
       "       'Balance', 'NumOfProducts', 'HasCrCard', 'IsActiveMember',\n",
       "       'EstimatedSalary', 'Exited'],\n",
       "      dtype='object')"
      ]
     },
     "execution_count": 14,
     "metadata": {},
     "output_type": "execute_result"
    }
   ],
   "source": [
    "df.columns"
   ]
  },
  {
   "cell_type": "code",
   "execution_count": 15,
   "metadata": {},
   "outputs": [
    {
     "data": {
      "image/png": "[encoded data removed]",
      "text/plain": [
       "<Figure size 720x720 with 8 Axes>"
      ]
     },
     "metadata": {
      "needs_background": "light"
     },
     "output_type": "display_data"
    }
   ],
   "source": [
    "cols = df[['CreditScore', 'Age', 'Tenure',\n",
    "       'Balance', 'NumOfProducts', 'HasCrCard', 'IsActiveMember',\n",
    "       'EstimatedSalary']].columns.tolist()\n",
    "plt.figure(figsize=(10, 10))\n",
    "\n",
    "for i, variable in enumerate(cols):\n",
    "    plt.subplot(3, 3, i + 1)\n",
    "    sns.boxplot(df[\"Exited\"], df[variable])\n",
    "    plt.tight_layout()\n",
    "    plt.title(variable)\n",
    "plt.show()"
   ]
  },
  {
   "cell_type": "markdown",
   "metadata": {},
   "source": [
    "- Customers with lower credit limit are more likely to churn\n",
    "- Customers having higher age are more likely to churn\n",
    "- Customers with high tenure is more likely to churn"
   ]
  },
  {
   "cell_type": "code",
   "execution_count": 16,
   "metadata": {},
   "outputs": [],
   "source": [
    "### Function to plot stacked bar charts for categorical columns\n",
    "def stacked_plot(x):\n",
    "    sns.set(palette=\"nipy_spectral\")\n",
    "    tab1 = pd.crosstab(x, df[\"Exited\"], margins=True)\n",
    "    print(tab1)\n",
    "    print(\"-\" * 120)\n",
    "    tab = pd.crosstab(x, df[\"Exited\"], normalize=\"index\")\n",
    "    tab.plot(kind=\"bar\", stacked=True, figsize=(10, 5))\n",
    "    plt.legend(loc=\"lower left\", frameon=False)\n",
    "    plt.legend(loc=\"upper left\", bbox_to_anchor=(1, 1))\n",
    "    plt.show()"
   ]
  },
  {
   "cell_type": "code",
   "execution_count": 17,
   "metadata": {},
   "outputs": [
    {
     "name": "stdout",
     "output_type": "stream",
     "text": [
      "Exited     0     1    All\n",
      "Gender                   \n",
      "Female  3404  1139   4543\n",
      "Male    4559   898   5457\n",
      "All     7963  2037  10000\n",
      "------------------------------------------------------------------------------------------------------------------------\n"
     ]
    },
    {
     "data": {
      "image/png": "[encoded data removed]",
      "text/plain": [
       "<Figure size 720x360 with 1 Axes>"
      ]
     },
     "metadata": {},
     "output_type": "display_data"
    }
   ],
   "source": [
    "stacked_plot(df[\"Gender\"])"
   ]
  },
  {
   "cell_type": "markdown",
   "metadata": {},
   "source": [
    "- Male customers have a more likelihood of exiting compared to female"
   ]
  },
  {
   "cell_type": "code",
   "execution_count": 18,
   "metadata": {},
   "outputs": [
    {
     "name": "stdout",
     "output_type": "stream",
     "text": [
      "Exited        0     1    All\n",
      "Geography                   \n",
      "France     4204   810   5014\n",
      "Germany    1695   814   2509\n",
      "Spain      2064   413   2477\n",
      "All        7963  2037  10000\n",
      "------------------------------------------------------------------------------------------------------------------------\n"
     ]
    },
    {
     "data": {
      "image/png": "[encoded data removed]",
      "text/plain": [
       "<Figure size 720x360 with 1 Axes>"
      ]
     },
     "metadata": {},
     "output_type": "display_data"
    }
   ],
   "source": [
    "stacked_plot(df[\"Geography\"])"
   ]
  },
  {
   "cell_type": "markdown",
   "metadata": {},
   "source": [
    "- Customers in France and Spain have higher likelihood to exit than Germany"
   ]
  },
  {
   "cell_type": "code",
   "execution_count": 19,
   "metadata": {},
   "outputs": [
    {
     "name": "stdout",
     "output_type": "stream",
     "text": [
      "Surname 2932\n",
      "Geography 3\n",
      "Gender 2\n"
     ]
    }
   ],
   "source": [
    "for col in df.columns:\n",
    "    if df[col].dtype == 'O':\n",
    "        print(col, df[col].nunique())"
   ]
  },
  {
   "cell_type": "code",
   "execution_count": 20,
   "metadata": {
    "scrolled": true
   },
   "outputs": [
    {
     "data": {
      "text/plain": [
       "2932"
      ]
     },
     "execution_count": 20,
     "metadata": {},
     "output_type": "execute_result"
    }
   ],
   "source": [
    "df['Surname'].nunique() "
   ]
  },
  {
   "cell_type": "code",
   "execution_count": 21,
   "metadata": {},
   "outputs": [],
   "source": [
    "# drop Surname due to high cardinality and it does not also explain the target column\n",
    "df.drop('Surname', axis=1, inplace=True)"
   ]
  },
  {
   "cell_type": "code",
   "execution_count": 22,
   "metadata": {},
   "outputs": [
    {
     "data": {
      "text/plain": [
       "(10000, 11)"
      ]
     },
     "execution_count": 22,
     "metadata": {},
     "output_type": "execute_result"
    }
   ],
   "source": [
    "df.shape"
   ]
  },
  {
   "cell_type": "code",
   "execution_count": 23,
   "metadata": {},
   "outputs": [
    {
     "data": {
      "text/html": [
       "<div>\n",
       "<style scoped>\n",
       "    .dataframe tbody tr th:only-of-type {\n",
       "        vertical-align: middle;\n",
       "    }\n",
       "\n",
       "    .dataframe tbody tr th {\n",
       "        vertical-align: top;\n",
       "    }\n",
       "\n",
       "    .dataframe thead th {\n",
       "        text-align: right;\n",
       "    }\n",
       "</style>\n",
       "<table border=\"1\" class=\"dataframe\">\n",
       "  <thead>\n",
       "    <tr style=\"text-align: right;\">\n",
       "      <th></th>\n",
       "      <th>CreditScore</th>\n",
       "      <th>Geography</th>\n",
       "      <th>Gender</th>\n",
       "      <th>Age</th>\n",
       "      <th>Tenure</th>\n",
       "      <th>Balance</th>\n",
       "      <th>NumOfProducts</th>\n",
       "      <th>HasCrCard</th>\n",
       "      <th>IsActiveMember</th>\n",
       "      <th>EstimatedSalary</th>\n",
       "      <th>Exited</th>\n",
       "    </tr>\n",
       "  </thead>\n",
       "  <tbody>\n",
       "    <tr>\n",
       "      <td>0</td>\n",
       "      <td>619</td>\n",
       "      <td>France</td>\n",
       "      <td>Female</td>\n",
       "      <td>42</td>\n",
       "      <td>2</td>\n",
       "      <td>0.00</td>\n",
       "      <td>1</td>\n",
       "      <td>1</td>\n",
       "      <td>1</td>\n",
       "      <td>101348.88</td>\n",
       "      <td>1</td>\n",
       "    </tr>\n",
       "    <tr>\n",
       "      <td>1</td>\n",
       "      <td>608</td>\n",
       "      <td>Spain</td>\n",
       "      <td>Female</td>\n",
       "      <td>41</td>\n",
       "      <td>1</td>\n",
       "      <td>83807.86</td>\n",
       "      <td>1</td>\n",
       "      <td>0</td>\n",
       "      <td>1</td>\n",
       "      <td>112542.58</td>\n",
       "      <td>0</td>\n",
       "    </tr>\n",
       "    <tr>\n",
       "      <td>2</td>\n",
       "      <td>502</td>\n",
       "      <td>France</td>\n",
       "      <td>Female</td>\n",
       "      <td>42</td>\n",
       "      <td>8</td>\n",
       "      <td>159660.80</td>\n",
       "      <td>3</td>\n",
       "      <td>1</td>\n",
       "      <td>0</td>\n",
       "      <td>113931.57</td>\n",
       "      <td>1</td>\n",
       "    </tr>\n",
       "    <tr>\n",
       "      <td>3</td>\n",
       "      <td>699</td>\n",
       "      <td>France</td>\n",
       "      <td>Female</td>\n",
       "      <td>39</td>\n",
       "      <td>1</td>\n",
       "      <td>0.00</td>\n",
       "      <td>2</td>\n",
       "      <td>0</td>\n",
       "      <td>0</td>\n",
       "      <td>93826.63</td>\n",
       "      <td>0</td>\n",
       "    </tr>\n",
       "    <tr>\n",
       "      <td>4</td>\n",
       "      <td>850</td>\n",
       "      <td>Spain</td>\n",
       "      <td>Female</td>\n",
       "      <td>43</td>\n",
       "      <td>2</td>\n",
       "      <td>125510.82</td>\n",
       "      <td>1</td>\n",
       "      <td>1</td>\n",
       "      <td>1</td>\n",
       "      <td>79084.10</td>\n",
       "      <td>0</td>\n",
       "    </tr>\n",
       "  </tbody>\n",
       "</table>\n",
       "</div>"
      ],
      "text/plain": [
       "   CreditScore Geography  Gender  Age  Tenure    Balance  NumOfProducts  \\\n",
       "0          619    France  Female   42       2       0.00              1   \n",
       "1          608     Spain  Female   41       1   83807.86              1   \n",
       "2          502    France  Female   42       8  159660.80              3   \n",
       "3          699    France  Female   39       1       0.00              2   \n",
       "4          850     Spain  Female   43       2  125510.82              1   \n",
       "\n",
       "   HasCrCard  IsActiveMember  EstimatedSalary  Exited  \n",
       "0          1               1        101348.88       1  \n",
       "1          0               1        112542.58       0  \n",
       "2          1               0        113931.57       1  \n",
       "3          0               0         93826.63       0  \n",
       "4          1               1         79084.10       0  "
      ]
     },
     "execution_count": 23,
     "metadata": {},
     "output_type": "execute_result"
    }
   ],
   "source": [
    "df.head()"
   ]
  },
  {
   "cell_type": "code",
   "execution_count": 24,
   "metadata": {},
   "outputs": [
    {
     "data": {
      "text/plain": [
       "France     5014\n",
       "Germany    2509\n",
       "Spain      2477\n",
       "Name: Geography, dtype: int64"
      ]
     },
     "execution_count": 24,
     "metadata": {},
     "output_type": "execute_result"
    }
   ],
   "source": [
    "df['Geography'].value_counts()"
   ]
  },
  {
   "cell_type": "markdown",
   "metadata": {},
   "source": [
    "### Distinguish the feature and target set and divide the data set into training and test sets "
   ]
  },
  {
   "cell_type": "code",
   "execution_count": 25,
   "metadata": {},
   "outputs": [],
   "source": [
    "X = df.iloc[:, :10]\n",
    "y = df.iloc[:,10]"
   ]
  },
  {
   "cell_type": "code",
   "execution_count": 26,
   "metadata": {},
   "outputs": [
    {
     "data": {
      "text/html": [
       "<div>\n",
       "<style scoped>\n",
       "    .dataframe tbody tr th:only-of-type {\n",
       "        vertical-align: middle;\n",
       "    }\n",
       "\n",
       "    .dataframe tbody tr th {\n",
       "        vertical-align: top;\n",
       "    }\n",
       "\n",
       "    .dataframe thead th {\n",
       "        text-align: right;\n",
       "    }\n",
       "</style>\n",
       "<table border=\"1\" class=\"dataframe\">\n",
       "  <thead>\n",
       "    <tr style=\"text-align: right;\">\n",
       "      <th></th>\n",
       "      <th>CreditScore</th>\n",
       "      <th>Geography</th>\n",
       "      <th>Gender</th>\n",
       "      <th>Age</th>\n",
       "      <th>Tenure</th>\n",
       "      <th>Balance</th>\n",
       "      <th>NumOfProducts</th>\n",
       "      <th>HasCrCard</th>\n",
       "      <th>IsActiveMember</th>\n",
       "      <th>EstimatedSalary</th>\n",
       "    </tr>\n",
       "  </thead>\n",
       "  <tbody>\n",
       "    <tr>\n",
       "      <td>0</td>\n",
       "      <td>619</td>\n",
       "      <td>France</td>\n",
       "      <td>Female</td>\n",
       "      <td>42</td>\n",
       "      <td>2</td>\n",
       "      <td>0.00</td>\n",
       "      <td>1</td>\n",
       "      <td>1</td>\n",
       "      <td>1</td>\n",
       "      <td>101348.88</td>\n",
       "    </tr>\n",
       "    <tr>\n",
       "      <td>1</td>\n",
       "      <td>608</td>\n",
       "      <td>Spain</td>\n",
       "      <td>Female</td>\n",
       "      <td>41</td>\n",
       "      <td>1</td>\n",
       "      <td>83807.86</td>\n",
       "      <td>1</td>\n",
       "      <td>0</td>\n",
       "      <td>1</td>\n",
       "      <td>112542.58</td>\n",
       "    </tr>\n",
       "    <tr>\n",
       "      <td>2</td>\n",
       "      <td>502</td>\n",
       "      <td>France</td>\n",
       "      <td>Female</td>\n",
       "      <td>42</td>\n",
       "      <td>8</td>\n",
       "      <td>159660.80</td>\n",
       "      <td>3</td>\n",
       "      <td>1</td>\n",
       "      <td>0</td>\n",
       "      <td>113931.57</td>\n",
       "    </tr>\n",
       "    <tr>\n",
       "      <td>3</td>\n",
       "      <td>699</td>\n",
       "      <td>France</td>\n",
       "      <td>Female</td>\n",
       "      <td>39</td>\n",
       "      <td>1</td>\n",
       "      <td>0.00</td>\n",
       "      <td>2</td>\n",
       "      <td>0</td>\n",
       "      <td>0</td>\n",
       "      <td>93826.63</td>\n",
       "    </tr>\n",
       "    <tr>\n",
       "      <td>4</td>\n",
       "      <td>850</td>\n",
       "      <td>Spain</td>\n",
       "      <td>Female</td>\n",
       "      <td>43</td>\n",
       "      <td>2</td>\n",
       "      <td>125510.82</td>\n",
       "      <td>1</td>\n",
       "      <td>1</td>\n",
       "      <td>1</td>\n",
       "      <td>79084.10</td>\n",
       "    </tr>\n",
       "  </tbody>\n",
       "</table>\n",
       "</div>"
      ],
      "text/plain": [
       "   CreditScore Geography  Gender  Age  Tenure    Balance  NumOfProducts  \\\n",
       "0          619    France  Female   42       2       0.00              1   \n",
       "1          608     Spain  Female   41       1   83807.86              1   \n",
       "2          502    France  Female   42       8  159660.80              3   \n",
       "3          699    France  Female   39       1       0.00              2   \n",
       "4          850     Spain  Female   43       2  125510.82              1   \n",
       "\n",
       "   HasCrCard  IsActiveMember  EstimatedSalary  \n",
       "0          1               1        101348.88  \n",
       "1          0               1        112542.58  \n",
       "2          1               0        113931.57  \n",
       "3          0               0         93826.63  \n",
       "4          1               1         79084.10  "
      ]
     },
     "execution_count": 26,
     "metadata": {},
     "output_type": "execute_result"
    }
   ],
   "source": [
    "X.head()"
   ]
  },
  {
   "cell_type": "code",
   "execution_count": 27,
   "metadata": {},
   "outputs": [
    {
     "data": {
      "text/plain": [
       "0    1\n",
       "1    0\n",
       "2    1\n",
       "3    0\n",
       "4    0\n",
       "Name: Exited, dtype: int64"
      ]
     },
     "execution_count": 27,
     "metadata": {},
     "output_type": "execute_result"
    }
   ],
   "source": [
    "y.head()"
   ]
  },
  {
   "cell_type": "code",
   "execution_count": 28,
   "metadata": {},
   "outputs": [],
   "source": [
    "# convert to array for further processing\n",
    "X = X.values\n",
    "y = y.values"
   ]
  },
  {
   "cell_type": "markdown",
   "metadata": {},
   "source": [
    "### Label encoding and One hot encoding "
   ]
  },
  {
   "cell_type": "code",
   "execution_count": 29,
   "metadata": {},
   "outputs": [],
   "source": [
    "from sklearn.preprocessing import LabelEncoder, OneHotEncoder\n",
    "from sklearn.compose import ColumnTransformer\n",
    "\n",
    "# Gender column\n",
    "labelencoder_X = LabelEncoder()\n",
    "X[:, 2] = labelencoder_X.fit_transform(X[:, 2])"
   ]
  },
  {
   "cell_type": "code",
   "execution_count": 30,
   "metadata": {},
   "outputs": [
    {
     "data": {
      "text/plain": [
       "array([[619, 'France', 0, 42, 2, 0.0, 1, 1, 1, 101348.88],\n",
       "       [608, 'Spain', 0, 41, 1, 83807.86, 1, 0, 1, 112542.58],\n",
       "       [502, 'France', 0, 42, 8, 159660.8, 3, 1, 0, 113931.57],\n",
       "       [699, 'France', 0, 39, 1, 0.0, 2, 0, 0, 93826.63],\n",
       "       [850, 'Spain', 0, 43, 2, 125510.82, 1, 1, 1, 79084.1],\n",
       "       [645, 'Spain', 1, 44, 8, 113755.78, 2, 1, 0, 149756.71],\n",
       "       [822, 'France', 1, 50, 7, 0.0, 2, 1, 1, 10062.8],\n",
       "       [376, 'Germany', 0, 29, 4, 115046.74, 4, 1, 0, 119346.88],\n",
       "       [501, 'France', 1, 44, 4, 142051.07, 2, 0, 1, 74940.5],\n",
       "       [684, 'France', 1, 27, 2, 134603.88, 1, 1, 1, 71725.73]],\n",
       "      dtype=object)"
      ]
     },
     "execution_count": 30,
     "metadata": {},
     "output_type": "execute_result"
    }
   ],
   "source": [
    "X[:10, :]"
   ]
  },
  {
   "cell_type": "markdown",
   "metadata": {},
   "source": [
    "#### For geography column we will apply One hot encoding as it does not have an ordinal relationship"
   ]
  },
  {
   "cell_type": "code",
   "execution_count": 31,
   "metadata": {},
   "outputs": [],
   "source": [
    "# Geography column\n",
    "ct = ColumnTransformer([(\"Geography\", OneHotEncoder(), [1])], remainder = 'passthrough')\n",
    "X = np.array(ct.fit_transform(X))"
   ]
  },
  {
   "cell_type": "code",
   "execution_count": 32,
   "metadata": {},
   "outputs": [
    {
     "name": "stdout",
     "output_type": "stream",
     "text": [
      "[[1.0 0.0 0.0 ... 1 1 101348.88]\n",
      " [0.0 0.0 1.0 ... 0 1 112542.58]\n",
      " [1.0 0.0 0.0 ... 1 0 113931.57]\n",
      " ...\n",
      " [1.0 0.0 0.0 ... 0 1 42085.58]\n",
      " [0.0 1.0 0.0 ... 1 0 92888.52]\n",
      " [1.0 0.0 0.0 ... 1 0 38190.78]]\n"
     ]
    }
   ],
   "source": [
    "# verify the result\n",
    "print(X)"
   ]
  },
  {
   "cell_type": "code",
   "execution_count": 33,
   "metadata": {},
   "outputs": [
    {
     "name": "stdout",
     "output_type": "stream",
     "text": [
      "[1 0 1 ... 1 1 0]\n"
     ]
    }
   ],
   "source": [
    "print(y)"
   ]
  },
  {
   "cell_type": "markdown",
   "metadata": {},
   "source": [
    "### Split data into train and test"
   ]
  },
  {
   "cell_type": "code",
   "execution_count": 34,
   "metadata": {},
   "outputs": [],
   "source": [
    "from sklearn.model_selection import train_test_split\n",
    "X_train, X_test, y_train, y_test = train_test_split(X, y, test_size = 0.2, random_state = 1)"
   ]
  },
  {
   "cell_type": "markdown",
   "metadata": {},
   "source": [
    "### Normalize the train and test data"
   ]
  },
  {
   "cell_type": "markdown",
   "metadata": {},
   "source": [
    "Feature scaling is necessary for ANN models so that all the columns are given equal weight "
   ]
  },
  {
   "cell_type": "code",
   "execution_count": 35,
   "metadata": {},
   "outputs": [],
   "source": [
    "from sklearn.preprocessing import StandardScaler\n",
    "sc = StandardScaler()\n",
    "# Scaling fitted only to training set to avoid information leakage.\n",
    "X_train = sc.fit_transform(X_train)\n",
    "X_test = sc.transform(X_test)"
   ]
  },
  {
   "cell_type": "markdown",
   "metadata": {},
   "source": [
    "### Initialize & build the model. Identify the points of improvement and implement the same. "
   ]
  },
  {
   "cell_type": "code",
   "execution_count": 45,
   "metadata": {},
   "outputs": [],
   "source": [
    "# we will use Sequential class to train the NN model\n",
    "model = tf.keras.models.Sequential()"
   ]
  },
  {
   "cell_type": "code",
   "execution_count": 46,
   "metadata": {},
   "outputs": [],
   "source": [
    "# add input and first hidden layer\n",
    "model.add(tf.keras.layers.Dense(units=6, activation='relu'))"
   ]
  },
  {
   "cell_type": "code",
   "execution_count": 47,
   "metadata": {},
   "outputs": [],
   "source": [
    "# add second hidden layer\n",
    "model.add(tf.keras.layers.Dense(units=6, activation='relu'))"
   ]
  },
  {
   "cell_type": "code",
   "execution_count": 48,
   "metadata": {},
   "outputs": [],
   "source": [
    "# add output layer\n",
    "model.add(tf.keras.layers.Dense(units=1, activation='sigmoid'))"
   ]
  },
  {
   "cell_type": "code",
   "execution_count": 49,
   "metadata": {},
   "outputs": [],
   "source": [
    "# compile the model with optimizer and loss function\n",
    "model.compile(optimizer='adam', loss='binary_crossentropy', metrics=['accuracy'])"
   ]
  },
  {
   "cell_type": "markdown",
   "metadata": {},
   "source": [
    "We use standard adam optimizer and loss function as binary_crossentropy as the label column is binary. Finally we will measure the performance using accuracy metric"
   ]
  },
  {
   "cell_type": "code",
   "execution_count": 50,
   "metadata": {},
   "outputs": [
    {
     "name": "stdout",
     "output_type": "stream",
     "text": [
      "Train on 8000 samples\n",
      "Epoch 1/100\n",
      "8000/8000 [==============================] - 1s 77us/sample - loss: 0.5550 - accuracy: 0.7636\n",
      "Epoch 2/100\n",
      "8000/8000 [==============================] - 0s 38us/sample - loss: 0.4661 - accuracy: 0.7974\n",
      "Epoch 3/100\n",
      "8000/8000 [==============================] - 0s 33us/sample - loss: 0.4405 - accuracy: 0.7996\n",
      "Epoch 4/100\n",
      "8000/8000 [==============================] - 0s 30us/sample - loss: 0.4239 - accuracy: 0.8146\n",
      "Epoch 5/100\n",
      "8000/8000 [==============================] - 0s 29us/sample - loss: 0.4059 - accuracy: 0.8292\n",
      "Epoch 6/100\n",
      "8000/8000 [==============================] - 0s 26us/sample - loss: 0.3902 - accuracy: 0.8365\n",
      "Epoch 7/100\n",
      "8000/8000 [==============================] - 0s 28us/sample - loss: 0.3799 - accuracy: 0.8378\n",
      "Epoch 8/100\n",
      "8000/8000 [==============================] - 0s 28us/sample - loss: 0.3721 - accuracy: 0.8447\n",
      "Epoch 9/100\n",
      "8000/8000 [==============================] - 0s 28us/sample - loss: 0.3665 - accuracy: 0.8494\n",
      "Epoch 10/100\n",
      "8000/8000 [==============================] - 0s 28us/sample - loss: 0.3621 - accuracy: 0.8550\n",
      "Epoch 11/100\n",
      "8000/8000 [==============================] - 0s 26us/sample - loss: 0.3591 - accuracy: 0.8536\n",
      "Epoch 12/100\n",
      "8000/8000 [==============================] - 0s 28us/sample - loss: 0.3568 - accuracy: 0.8569\n",
      "Epoch 13/100\n",
      "8000/8000 [==============================] - 0s 26us/sample - loss: 0.3547 - accuracy: 0.8581\n",
      "Epoch 14/100\n",
      "8000/8000 [==============================] - 0s 28us/sample - loss: 0.3533 - accuracy: 0.8580\n",
      "Epoch 15/100\n",
      "8000/8000 [==============================] - 0s 28us/sample - loss: 0.3520 - accuracy: 0.8595\n",
      "Epoch 16/100\n",
      "8000/8000 [==============================] - 0s 28us/sample - loss: 0.3510 - accuracy: 0.8594\n",
      "Epoch 17/100\n",
      "8000/8000 [==============================] - 0s 28us/sample - loss: 0.3496 - accuracy: 0.8583\n",
      "Epoch 18/100\n",
      "8000/8000 [==============================] - 0s 26us/sample - loss: 0.3487 - accuracy: 0.8585\n",
      "Epoch 19/100\n",
      "8000/8000 [==============================] - 0s 29us/sample - loss: 0.3480 - accuracy: 0.8597\n",
      "Epoch 20/100\n",
      "8000/8000 [==============================] - 0s 29us/sample - loss: 0.3476 - accuracy: 0.8587\n",
      "Epoch 21/100\n",
      "8000/8000 [==============================] - 0s 25us/sample - loss: 0.3469 - accuracy: 0.8597\n",
      "Epoch 22/100\n",
      "8000/8000 [==============================] - 0s 25us/sample - loss: 0.3463 - accuracy: 0.8599\n",
      "Epoch 23/100\n",
      "8000/8000 [==============================] - 0s 27us/sample - loss: 0.3456 - accuracy: 0.8604\n",
      "Epoch 24/100\n",
      "8000/8000 [==============================] - 0s 25us/sample - loss: 0.3451 - accuracy: 0.8599\n",
      "Epoch 25/100\n",
      "8000/8000 [==============================] - 0s 24us/sample - loss: 0.3446 - accuracy: 0.8610\n",
      "Epoch 26/100\n",
      "8000/8000 [==============================] - 0s 24us/sample - loss: 0.3441 - accuracy: 0.8609\n",
      "Epoch 27/100\n",
      "8000/8000 [==============================] - 0s 25us/sample - loss: 0.3439 - accuracy: 0.8602\n",
      "Epoch 28/100\n",
      "8000/8000 [==============================] - 0s 24us/sample - loss: 0.3432 - accuracy: 0.8610\n",
      "Epoch 29/100\n",
      "8000/8000 [==============================] - 0s 24us/sample - loss: 0.3431 - accuracy: 0.8606\n",
      "Epoch 30/100\n",
      "8000/8000 [==============================] - 0s 25us/sample - loss: 0.3428 - accuracy: 0.8625\n",
      "Epoch 31/100\n",
      "8000/8000 [==============================] - 0s 28us/sample - loss: 0.3426 - accuracy: 0.8610\n",
      "Epoch 32/100\n",
      "8000/8000 [==============================] - 0s 29us/sample - loss: 0.3423 - accuracy: 0.8618\n",
      "Epoch 33/100\n",
      "8000/8000 [==============================] - 0s 28us/sample - loss: 0.3420 - accuracy: 0.8619\n",
      "Epoch 34/100\n",
      "8000/8000 [==============================] - 0s 30us/sample - loss: 0.3418 - accuracy: 0.8604\n",
      "Epoch 35/100\n",
      "8000/8000 [==============================] - 0s 29us/sample - loss: 0.3416 - accuracy: 0.8610\n",
      "Epoch 36/100\n",
      "8000/8000 [==============================] - 0s 29us/sample - loss: 0.3413 - accuracy: 0.8611\n",
      "Epoch 37/100\n",
      "8000/8000 [==============================] - 0s 27us/sample - loss: 0.3410 - accuracy: 0.8595\n",
      "Epoch 38/100\n",
      "8000/8000 [==============================] - 0s 25us/sample - loss: 0.3410 - accuracy: 0.8608\n",
      "Epoch 39/100\n",
      "8000/8000 [==============================] - 0s 25us/sample - loss: 0.3408 - accuracy: 0.8610\n",
      "Epoch 40/100\n",
      "8000/8000 [==============================] - 0s 24us/sample - loss: 0.3407 - accuracy: 0.8621\n",
      "Epoch 41/100\n",
      "8000/8000 [==============================] - 0s 25us/sample - loss: 0.3406 - accuracy: 0.8596\n",
      "Epoch 42/100\n",
      "8000/8000 [==============================] - 0s 24us/sample - loss: 0.3407 - accuracy: 0.8611\n",
      "Epoch 43/100\n",
      "8000/8000 [==============================] - 0s 24us/sample - loss: 0.3406 - accuracy: 0.8614\n",
      "Epoch 44/100\n",
      "8000/8000 [==============================] - 0s 25us/sample - loss: 0.3401 - accuracy: 0.8608\n",
      "Epoch 45/100\n",
      "8000/8000 [==============================] - 0s 25us/sample - loss: 0.3400 - accuracy: 0.8615\n",
      "Epoch 46/100\n",
      "8000/8000 [==============================] - 0s 25us/sample - loss: 0.3402 - accuracy: 0.8599\n",
      "Epoch 47/100\n",
      "8000/8000 [==============================] - 0s 24us/sample - loss: 0.3400 - accuracy: 0.8610\n",
      "Epoch 48/100\n",
      "8000/8000 [==============================] - 0s 24us/sample - loss: 0.3395 - accuracy: 0.8601\n",
      "Epoch 49/100\n",
      "8000/8000 [==============================] - 0s 25us/sample - loss: 0.3396 - accuracy: 0.8606\n",
      "Epoch 50/100\n",
      "8000/8000 [==============================] - 0s 24us/sample - loss: 0.3396 - accuracy: 0.8612\n",
      "Epoch 51/100\n",
      "8000/8000 [==============================] - 0s 27us/sample - loss: 0.3395 - accuracy: 0.8606\n",
      "Epoch 52/100\n",
      "8000/8000 [==============================] - 0s 29us/sample - loss: 0.3392 - accuracy: 0.8604\n",
      "Epoch 53/100\n",
      "8000/8000 [==============================] - 0s 27us/sample - loss: 0.3393 - accuracy: 0.8597\n",
      "Epoch 54/100\n",
      "8000/8000 [==============================] - 0s 32us/sample - loss: 0.3394 - accuracy: 0.8606\n",
      "Epoch 55/100\n",
      "8000/8000 [==============================] - 0s 32us/sample - loss: 0.3392 - accuracy: 0.8595\n",
      "Epoch 56/100\n",
      "8000/8000 [==============================] - 0s 32us/sample - loss: 0.3388 - accuracy: 0.8612\n",
      "Epoch 57/100\n",
      "8000/8000 [==============================] - 0s 29us/sample - loss: 0.3391 - accuracy: 0.8597\n",
      "Epoch 58/100\n",
      "8000/8000 [==============================] - 0s 29us/sample - loss: 0.3388 - accuracy: 0.8618\n",
      "Epoch 59/100\n",
      "8000/8000 [==============================] - 0s 27us/sample - loss: 0.3389 - accuracy: 0.8595\n",
      "Epoch 60/100\n",
      "8000/8000 [==============================] - 0s 26us/sample - loss: 0.3385 - accuracy: 0.8614\n",
      "Epoch 61/100\n",
      "8000/8000 [==============================] - 0s 36us/sample - loss: 0.3385 - accuracy: 0.8614\n",
      "Epoch 62/100\n",
      "8000/8000 [==============================] - 0s 31us/sample - loss: 0.3384 - accuracy: 0.8601\n",
      "Epoch 63/100\n",
      "8000/8000 [==============================] - 0s 30us/sample - loss: 0.3384 - accuracy: 0.8606\n",
      "Epoch 64/100\n",
      "8000/8000 [==============================] - 0s 29us/sample - loss: 0.3381 - accuracy: 0.8615\n",
      "Epoch 65/100\n",
      "8000/8000 [==============================] - 0s 29us/sample - loss: 0.3382 - accuracy: 0.8602\n",
      "Epoch 66/100\n",
      "8000/8000 [==============================] - 0s 31us/sample - loss: 0.3381 - accuracy: 0.8596\n",
      "Epoch 67/100\n",
      "8000/8000 [==============================] - 0s 31us/sample - loss: 0.3383 - accuracy: 0.8611\n",
      "Epoch 68/100\n",
      "8000/8000 [==============================] - 0s 28us/sample - loss: 0.3383 - accuracy: 0.8609\n",
      "Epoch 69/100\n",
      "8000/8000 [==============================] - 0s 27us/sample - loss: 0.3386 - accuracy: 0.8619\n",
      "Epoch 70/100\n",
      "8000/8000 [==============================] - 0s 26us/sample - loss: 0.3382 - accuracy: 0.8604\n",
      "Epoch 71/100\n",
      "8000/8000 [==============================] - 0s 27us/sample - loss: 0.3382 - accuracy: 0.8606\n",
      "Epoch 72/100\n",
      "8000/8000 [==============================] - 0s 30us/sample - loss: 0.3377 - accuracy: 0.8618\n",
      "Epoch 73/100\n",
      "8000/8000 [==============================] - 0s 33us/sample - loss: 0.3383 - accuracy: 0.8605\n",
      "Epoch 74/100\n",
      "8000/8000 [==============================] - 0s 28us/sample - loss: 0.3380 - accuracy: 0.8604\n",
      "Epoch 75/100\n",
      "8000/8000 [==============================] - 0s 26us/sample - loss: 0.3379 - accuracy: 0.8609\n",
      "Epoch 76/100\n",
      "8000/8000 [==============================] - 0s 26us/sample - loss: 0.3378 - accuracy: 0.8610\n",
      "Epoch 77/100\n",
      "8000/8000 [==============================] - 0s 29us/sample - loss: 0.3385 - accuracy: 0.8604\n",
      "Epoch 78/100\n",
      "8000/8000 [==============================] - 0s 30us/sample - loss: 0.3379 - accuracy: 0.8621\n",
      "Epoch 79/100\n",
      "8000/8000 [==============================] - 0s 30us/sample - loss: 0.3378 - accuracy: 0.8609\n",
      "Epoch 80/100\n",
      "8000/8000 [==============================] - 0s 28us/sample - loss: 0.3376 - accuracy: 0.8602\n",
      "Epoch 81/100\n",
      "8000/8000 [==============================] - 0s 28us/sample - loss: 0.3376 - accuracy: 0.8622\n",
      "Epoch 82/100\n",
      "8000/8000 [==============================] - 0s 29us/sample - loss: 0.3372 - accuracy: 0.8608\n",
      "Epoch 83/100\n",
      "8000/8000 [==============================] - 0s 29us/sample - loss: 0.3378 - accuracy: 0.8614\n",
      "Epoch 84/100\n",
      "8000/8000 [==============================] - 0s 29us/sample - loss: 0.3375 - accuracy: 0.8609\n",
      "Epoch 85/100\n",
      "8000/8000 [==============================] - 0s 31us/sample - loss: 0.3375 - accuracy: 0.8611\n",
      "Epoch 86/100\n",
      "8000/8000 [==============================] - 0s 28us/sample - loss: 0.3374 - accuracy: 0.8599\n",
      "Epoch 87/100\n",
      "8000/8000 [==============================] - 0s 26us/sample - loss: 0.3372 - accuracy: 0.8622\n",
      "Epoch 88/100\n",
      "8000/8000 [==============================] - 0s 27us/sample - loss: 0.3372 - accuracy: 0.8618\n",
      "Epoch 89/100\n",
      "8000/8000 [==============================] - 0s 26us/sample - loss: 0.3376 - accuracy: 0.8602\n",
      "Epoch 90/100\n",
      "8000/8000 [==============================] - 0s 26us/sample - loss: 0.3369 - accuracy: 0.8614\n",
      "Epoch 91/100\n",
      "8000/8000 [==============================] - 0s 29us/sample - loss: 0.3372 - accuracy: 0.8612\n",
      "Epoch 92/100\n",
      "8000/8000 [==============================] - 0s 30us/sample - loss: 0.3375 - accuracy: 0.8619\n",
      "Epoch 93/100\n",
      "8000/8000 [==============================] - 0s 27us/sample - loss: 0.3373 - accuracy: 0.8605\n",
      "Epoch 94/100\n",
      "8000/8000 [==============================] - 0s 29us/sample - loss: 0.3372 - accuracy: 0.8621\n",
      "Epoch 95/100\n",
      "8000/8000 [==============================] - 0s 28us/sample - loss: 0.3371 - accuracy: 0.8620\n",
      "Epoch 96/100\n",
      "8000/8000 [==============================] - 0s 31us/sample - loss: 0.3371 - accuracy: 0.8615\n",
      "Epoch 97/100\n",
      "8000/8000 [==============================] - 0s 29us/sample - loss: 0.3371 - accuracy: 0.8621\n",
      "Epoch 98/100\n",
      "8000/8000 [==============================] - 0s 29us/sample - loss: 0.3367 - accuracy: 0.8605\n",
      "Epoch 99/100\n",
      "8000/8000 [==============================] - 0s 29us/sample - loss: 0.3366 - accuracy: 0.8608\n",
      "Epoch 100/100\n",
      "8000/8000 [==============================] - 0s 30us/sample - loss: 0.3364 - accuracy: 0.8611\n"
     ]
    },
    {
     "data": {
      "text/plain": [
       "<tensorflow.python.keras.callbacks.History at 0x7f9f6a148438>"
      ]
     },
     "execution_count": 50,
     "metadata": {},
     "output_type": "execute_result"
    }
   ],
   "source": [
    "# train ANN on train data using 100 epochs\n",
    "model.fit(X_train, y_train, batch_size=32, epochs=100)"
   ]
  },
  {
   "cell_type": "markdown",
   "metadata": {},
   "source": [
    "### Hyperparameter optimization - to improve the model performance"
   ]
  },
  {
   "cell_type": "markdown",
   "metadata": {},
   "source": [
    "- We can try hyperparameter optimization of NN to imrpove the model performance. \n",
    "- We will tune by adding/changing hidden layers, activation function and units"
   ]
  },
  {
   "cell_type": "code",
   "execution_count": 51,
   "metadata": {},
   "outputs": [],
   "source": [
    "model2 = tf.keras.models.Sequential()\n",
    "model2.add(tf.keras.layers.Dense(units=30, activation='relu'))\n",
    "model2.add(tf.keras.layers.Dense(units=20, activation='relu'))\n",
    "model2.add(tf.keras.layers.Dense(units=10, activation='sigmoid'))\n",
    "model2.add(tf.keras.layers.Dense(units=1, activation='sigmoid'))\n"
   ]
  },
  {
   "cell_type": "code",
   "execution_count": 52,
   "metadata": {},
   "outputs": [],
   "source": [
    "model2.compile(optimizer='adam', loss='binary_crossentropy', metrics=['accuracy'])"
   ]
  },
  {
   "cell_type": "code",
   "execution_count": 53,
   "metadata": {},
   "outputs": [
    {
     "name": "stdout",
     "output_type": "stream",
     "text": [
      "Train on 8000 samples\n",
      "Epoch 1/100\n",
      "8000/8000 [==============================] - 1s 102us/sample - loss: 0.4724 - accuracy: 0.7997\n",
      "Epoch 2/100\n",
      "8000/8000 [==============================] - 0s 45us/sample - loss: 0.4163 - accuracy: 0.8211\n",
      "Epoch 3/100\n",
      "8000/8000 [==============================] - 0s 36us/sample - loss: 0.3928 - accuracy: 0.8357\n",
      "Epoch 4/100\n",
      "8000/8000 [==============================] - 0s 34us/sample - loss: 0.3700 - accuracy: 0.8520\n",
      "Epoch 5/100\n",
      "8000/8000 [==============================] - 0s 35us/sample - loss: 0.3568 - accuracy: 0.8593\n",
      "Epoch 6/100\n",
      "8000/8000 [==============================] - 0s 37us/sample - loss: 0.3485 - accuracy: 0.8596\n",
      "Epoch 7/100\n",
      "8000/8000 [==============================] - 0s 34us/sample - loss: 0.3440 - accuracy: 0.8627\n",
      "Epoch 8/100\n",
      "8000/8000 [==============================] - 0s 29us/sample - loss: 0.3408 - accuracy: 0.8626\n",
      "Epoch 9/100\n",
      "8000/8000 [==============================] - 0s 32us/sample - loss: 0.3381 - accuracy: 0.8616\n",
      "Epoch 10/100\n",
      "8000/8000 [==============================] - 0s 32us/sample - loss: 0.3350 - accuracy: 0.8630\n",
      "Epoch 11/100\n",
      "8000/8000 [==============================] - 0s 32us/sample - loss: 0.3343 - accuracy: 0.8641\n",
      "Epoch 12/100\n",
      "8000/8000 [==============================] - 0s 33us/sample - loss: 0.3326 - accuracy: 0.8636\n",
      "Epoch 13/100\n",
      "8000/8000 [==============================] - 0s 30us/sample - loss: 0.3318 - accuracy: 0.8659\n",
      "Epoch 14/100\n",
      "8000/8000 [==============================] - 0s 29us/sample - loss: 0.3296 - accuracy: 0.8649\n",
      "Epoch 15/100\n",
      "8000/8000 [==============================] - 0s 33us/sample - loss: 0.3276 - accuracy: 0.8670\n",
      "Epoch 16/100\n",
      "8000/8000 [==============================] - 0s 32us/sample - loss: 0.3276 - accuracy: 0.8645\n",
      "Epoch 17/100\n",
      "8000/8000 [==============================] - 0s 31us/sample - loss: 0.3259 - accuracy: 0.8665\n",
      "Epoch 18/100\n",
      "8000/8000 [==============================] - 0s 29us/sample - loss: 0.3258 - accuracy: 0.8650\n",
      "Epoch 19/100\n",
      "8000/8000 [==============================] - 0s 29us/sample - loss: 0.3244 - accuracy: 0.8695\n",
      "Epoch 20/100\n",
      "8000/8000 [==============================] - 0s 30us/sample - loss: 0.3236 - accuracy: 0.8677\n",
      "Epoch 21/100\n",
      "8000/8000 [==============================] - 0s 30us/sample - loss: 0.3235 - accuracy: 0.8684\n",
      "Epoch 22/100\n",
      "8000/8000 [==============================] - 0s 33us/sample - loss: 0.3210 - accuracy: 0.8708\n",
      "Epoch 23/100\n",
      "8000/8000 [==============================] - 0s 32us/sample - loss: 0.3207 - accuracy: 0.8698\n",
      "Epoch 24/100\n",
      "8000/8000 [==============================] - 0s 30us/sample - loss: 0.3197 - accuracy: 0.8699\n",
      "Epoch 25/100\n",
      "8000/8000 [==============================] - 0s 31us/sample - loss: 0.3190 - accuracy: 0.8698\n",
      "Epoch 26/100\n",
      "8000/8000 [==============================] - 0s 33us/sample - loss: 0.3181 - accuracy: 0.8699\n",
      "Epoch 27/100\n",
      "8000/8000 [==============================] - 0s 32us/sample - loss: 0.3178 - accuracy: 0.8706\n",
      "Epoch 28/100\n",
      "8000/8000 [==============================] - 0s 32us/sample - loss: 0.3164 - accuracy: 0.8724\n",
      "Epoch 29/100\n",
      "8000/8000 [==============================] - 0s 30us/sample - loss: 0.3164 - accuracy: 0.8680\n",
      "Epoch 30/100\n",
      "8000/8000 [==============================] - 0s 33us/sample - loss: 0.3155 - accuracy: 0.8700\n",
      "Epoch 31/100\n",
      "8000/8000 [==============================] - 0s 34us/sample - loss: 0.3147 - accuracy: 0.8694\n",
      "Epoch 32/100\n",
      "8000/8000 [==============================] - 0s 31us/sample - loss: 0.3138 - accuracy: 0.8733\n",
      "Epoch 33/100\n",
      "8000/8000 [==============================] - 0s 30us/sample - loss: 0.3132 - accuracy: 0.8696\n",
      "Epoch 34/100\n",
      "8000/8000 [==============================] - 0s 35us/sample - loss: 0.3126 - accuracy: 0.8717\n",
      "Epoch 35/100\n",
      "8000/8000 [==============================] - 0s 30us/sample - loss: 0.3126 - accuracy: 0.8729\n",
      "Epoch 36/100\n",
      "8000/8000 [==============================] - 0s 29us/sample - loss: 0.3112 - accuracy: 0.8739\n",
      "Epoch 37/100\n",
      "8000/8000 [==============================] - 0s 29us/sample - loss: 0.3116 - accuracy: 0.8727\n",
      "Epoch 38/100\n",
      "8000/8000 [==============================] - 0s 29us/sample - loss: 0.3111 - accuracy: 0.8735\n",
      "Epoch 39/100\n",
      "8000/8000 [==============================] - 0s 29us/sample - loss: 0.3098 - accuracy: 0.8719\n",
      "Epoch 40/100\n",
      "8000/8000 [==============================] - 0s 31us/sample - loss: 0.3093 - accuracy: 0.8710\n",
      "Epoch 41/100\n",
      "8000/8000 [==============================] - 0s 33us/sample - loss: 0.3093 - accuracy: 0.8741\n",
      "Epoch 42/100\n",
      "8000/8000 [==============================] - 0s 30us/sample - loss: 0.3096 - accuracy: 0.8717\n",
      "Epoch 43/100\n",
      "8000/8000 [==============================] - 0s 29us/sample - loss: 0.3084 - accuracy: 0.8733\n",
      "Epoch 44/100\n",
      "8000/8000 [==============================] - 0s 34us/sample - loss: 0.3073 - accuracy: 0.8719\n",
      "Epoch 45/100\n",
      "8000/8000 [==============================] - 0s 35us/sample - loss: 0.3072 - accuracy: 0.8720\n",
      "Epoch 46/100\n",
      "8000/8000 [==============================] - 0s 32us/sample - loss: 0.3061 - accuracy: 0.8734\n",
      "Epoch 47/100\n",
      "8000/8000 [==============================] - 0s 29us/sample - loss: 0.3065 - accuracy: 0.8727\n",
      "Epoch 48/100\n",
      "8000/8000 [==============================] - 0s 30us/sample - loss: 0.3059 - accuracy: 0.8721\n",
      "Epoch 49/100\n",
      "8000/8000 [==============================] - 0s 34us/sample - loss: 0.3064 - accuracy: 0.8736\n",
      "Epoch 50/100\n",
      "8000/8000 [==============================] - 0s 32us/sample - loss: 0.3058 - accuracy: 0.8735\n",
      "Epoch 51/100\n",
      "8000/8000 [==============================] - 0s 31us/sample - loss: 0.3041 - accuracy: 0.8730\n",
      "Epoch 52/100\n",
      "8000/8000 [==============================] - 0s 30us/sample - loss: 0.3041 - accuracy: 0.8726\n",
      "Epoch 53/100\n",
      "8000/8000 [==============================] - 0s 30us/sample - loss: 0.3034 - accuracy: 0.8731\n",
      "Epoch 54/100\n",
      "8000/8000 [==============================] - 0s 32us/sample - loss: 0.3022 - accuracy: 0.8766\n",
      "Epoch 55/100\n",
      "8000/8000 [==============================] - 0s 30us/sample - loss: 0.3034 - accuracy: 0.8734\n",
      "Epoch 56/100\n",
      "8000/8000 [==============================] - 0s 31us/sample - loss: 0.3017 - accuracy: 0.8759\n",
      "Epoch 57/100\n",
      "8000/8000 [==============================] - 0s 35us/sample - loss: 0.3027 - accuracy: 0.8749\n",
      "Epoch 58/100\n",
      "8000/8000 [==============================] - 0s 34us/sample - loss: 0.3017 - accuracy: 0.8745\n",
      "Epoch 59/100\n",
      "8000/8000 [==============================] - 0s 33us/sample - loss: 0.3007 - accuracy: 0.8741\n",
      "Epoch 60/100\n",
      "8000/8000 [==============================] - 0s 33us/sample - loss: 0.3021 - accuracy: 0.8756\n",
      "Epoch 61/100\n",
      "8000/8000 [==============================] - 0s 30us/sample - loss: 0.3001 - accuracy: 0.8764\n",
      "Epoch 62/100\n",
      "8000/8000 [==============================] - 0s 34us/sample - loss: 0.3004 - accuracy: 0.8750\n",
      "Epoch 63/100\n",
      "8000/8000 [==============================] - 0s 32us/sample - loss: 0.2999 - accuracy: 0.8736\n",
      "Epoch 64/100\n",
      "8000/8000 [==============================] - 0s 32us/sample - loss: 0.3004 - accuracy: 0.8730\n",
      "Epoch 65/100\n",
      "8000/8000 [==============================] - 0s 32us/sample - loss: 0.2985 - accuracy: 0.8767\n",
      "Epoch 66/100\n",
      "8000/8000 [==============================] - 0s 32us/sample - loss: 0.2981 - accuracy: 0.8773\n",
      "Epoch 67/100\n",
      "8000/8000 [==============================] - 0s 31us/sample - loss: 0.2978 - accuracy: 0.8737\n",
      "Epoch 68/100\n",
      "8000/8000 [==============================] - 0s 31us/sample - loss: 0.2973 - accuracy: 0.8774\n",
      "Epoch 69/100\n",
      "8000/8000 [==============================] - 0s 31us/sample - loss: 0.2974 - accuracy: 0.8737\n",
      "Epoch 70/100\n",
      "8000/8000 [==============================] - 0s 29us/sample - loss: 0.2977 - accuracy: 0.8767\n",
      "Epoch 71/100\n",
      "8000/8000 [==============================] - 0s 32us/sample - loss: 0.2969 - accuracy: 0.8758\n",
      "Epoch 72/100\n",
      "8000/8000 [==============================] - 0s 30us/sample - loss: 0.2950 - accuracy: 0.8780\n",
      "Epoch 73/100\n",
      "8000/8000 [==============================] - 0s 30us/sample - loss: 0.2957 - accuracy: 0.8765\n",
      "Epoch 74/100\n",
      "8000/8000 [==============================] - 0s 32us/sample - loss: 0.2945 - accuracy: 0.8763\n",
      "Epoch 75/100\n",
      "8000/8000 [==============================] - 0s 29us/sample - loss: 0.2951 - accuracy: 0.8779\n",
      "Epoch 76/100\n",
      "8000/8000 [==============================] - 0s 29us/sample - loss: 0.2943 - accuracy: 0.8785\n",
      "Epoch 77/100\n",
      "8000/8000 [==============================] - 0s 30us/sample - loss: 0.2940 - accuracy: 0.8773\n",
      "Epoch 78/100\n",
      "8000/8000 [==============================] - 0s 33us/sample - loss: 0.2934 - accuracy: 0.8785\n",
      "Epoch 79/100\n",
      "8000/8000 [==============================] - 0s 31us/sample - loss: 0.2935 - accuracy: 0.8771\n",
      "Epoch 80/100\n",
      "8000/8000 [==============================] - 0s 29us/sample - loss: 0.2923 - accuracy: 0.8779\n",
      "Epoch 81/100\n",
      "8000/8000 [==============================] - 0s 29us/sample - loss: 0.2916 - accuracy: 0.8756\n",
      "Epoch 82/100\n",
      "8000/8000 [==============================] - 0s 30us/sample - loss: 0.2923 - accuracy: 0.8790\n",
      "Epoch 83/100\n",
      "8000/8000 [==============================] - 0s 29us/sample - loss: 0.2923 - accuracy: 0.8791\n",
      "Epoch 84/100\n",
      "8000/8000 [==============================] - 0s 32us/sample - loss: 0.2908 - accuracy: 0.8786\n",
      "Epoch 85/100\n",
      "8000/8000 [==============================] - 0s 30us/sample - loss: 0.2912 - accuracy: 0.8786\n",
      "Epoch 86/100\n",
      "8000/8000 [==============================] - 0s 30us/sample - loss: 0.2912 - accuracy: 0.8792\n",
      "Epoch 87/100\n",
      "8000/8000 [==============================] - 0s 31us/sample - loss: 0.2904 - accuracy: 0.8789\n",
      "Epoch 88/100\n",
      "8000/8000 [==============================] - 0s 33us/sample - loss: 0.2898 - accuracy: 0.8785\n",
      "Epoch 89/100\n",
      "8000/8000 [==============================] - 0s 31us/sample - loss: 0.2895 - accuracy: 0.8777\n",
      "Epoch 90/100\n",
      "8000/8000 [==============================] - 0s 31us/sample - loss: 0.2884 - accuracy: 0.8813\n",
      "Epoch 91/100\n",
      "8000/8000 [==============================] - 0s 32us/sample - loss: 0.2888 - accuracy: 0.8786\n",
      "Epoch 92/100\n",
      "8000/8000 [==============================] - 0s 30us/sample - loss: 0.2871 - accuracy: 0.8798\n",
      "Epoch 93/100\n",
      "8000/8000 [==============================] - 0s 30us/sample - loss: 0.2874 - accuracy: 0.8801\n",
      "Epoch 94/100\n",
      "8000/8000 [==============================] - 0s 30us/sample - loss: 0.2875 - accuracy: 0.8823\n",
      "Epoch 95/100\n",
      "8000/8000 [==============================] - 0s 31us/sample - loss: 0.2860 - accuracy: 0.8805\n",
      "Epoch 96/100\n",
      "8000/8000 [==============================] - 0s 31us/sample - loss: 0.2863 - accuracy: 0.8830\n",
      "Epoch 97/100\n",
      "8000/8000 [==============================] - 0s 30us/sample - loss: 0.2868 - accuracy: 0.8792\n",
      "Epoch 98/100\n",
      "8000/8000 [==============================] - 0s 33us/sample - loss: 0.2858 - accuracy: 0.8794\n",
      "Epoch 99/100\n",
      "8000/8000 [==============================] - 0s 32us/sample - loss: 0.2852 - accuracy: 0.8795\n",
      "Epoch 100/100\n",
      "8000/8000 [==============================] - 0s 30us/sample - loss: 0.2850 - accuracy: 0.8806\n"
     ]
    },
    {
     "data": {
      "text/plain": [
       "<tensorflow.python.keras.callbacks.History at 0x7f9f6a9a0d30>"
      ]
     },
     "execution_count": 53,
     "metadata": {},
     "output_type": "execute_result"
    }
   ],
   "source": [
    "model2.fit(X_train, y_train, batch_size=32, epochs=100)"
   ]
  },
  {
   "cell_type": "markdown",
   "metadata": {},
   "source": [
    "#### Reduce the batch_size to see if there is an improvement in accuracy"
   ]
  },
  {
   "cell_type": "code",
   "execution_count": 96,
   "metadata": {
    "scrolled": true
   },
   "outputs": [
    {
     "name": "stdout",
     "output_type": "stream",
     "text": [
      "Train on 8000 samples\n",
      "Epoch 1/100\n",
      "8000/8000 [==============================] - 1s 134us/sample - loss: 0.3370 - accuracy: 0.8625\n",
      "Epoch 2/100\n",
      "8000/8000 [==============================] - 1s 88us/sample - loss: 0.3362 - accuracy: 0.8611\n",
      "Epoch 3/100\n",
      "8000/8000 [==============================] - 1s 84us/sample - loss: 0.3357 - accuracy: 0.8604\n",
      "Epoch 4/100\n",
      "8000/8000 [==============================] - 1s 87us/sample - loss: 0.3351 - accuracy: 0.8602\n",
      "Epoch 5/100\n",
      "8000/8000 [==============================] - 1s 97us/sample - loss: 0.3353 - accuracy: 0.8605\n",
      "Epoch 6/100\n",
      "8000/8000 [==============================] - 1s 85us/sample - loss: 0.3352 - accuracy: 0.8595\n",
      "Epoch 7/100\n",
      "8000/8000 [==============================] - 1s 85us/sample - loss: 0.3355 - accuracy: 0.8621\n",
      "Epoch 8/100\n",
      "8000/8000 [==============================] - 1s 91us/sample - loss: 0.3353 - accuracy: 0.8594\n",
      "Epoch 9/100\n",
      "8000/8000 [==============================] - 1s 79us/sample - loss: 0.3353 - accuracy: 0.8611\n",
      "Epoch 10/100\n",
      "8000/8000 [==============================] - 1s 79us/sample - loss: 0.3351 - accuracy: 0.8609\n",
      "Epoch 11/100\n",
      "8000/8000 [==============================] - 1s 91us/sample - loss: 0.3353 - accuracy: 0.8605\n",
      "Epoch 12/100\n",
      "8000/8000 [==============================] - 1s 105us/sample - loss: 0.3351 - accuracy: 0.8630\n",
      "Epoch 13/100\n",
      "8000/8000 [==============================] - 1s 90us/sample - loss: 0.3344 - accuracy: 0.8621\n",
      "Epoch 14/100\n",
      "8000/8000 [==============================] - 1s 113us/sample - loss: 0.3343 - accuracy: 0.8620\n",
      "Epoch 15/100\n",
      "8000/8000 [==============================] - 1s 81us/sample - loss: 0.3347 - accuracy: 0.8624\n",
      "Epoch 16/100\n",
      "8000/8000 [==============================] - 1s 80us/sample - loss: 0.3349 - accuracy: 0.8600\n",
      "Epoch 17/100\n",
      "8000/8000 [==============================] - 1s 79us/sample - loss: 0.3343 - accuracy: 0.8614\n",
      "Epoch 18/100\n",
      "8000/8000 [==============================] - 1s 78us/sample - loss: 0.3350 - accuracy: 0.8619\n",
      "Epoch 19/100\n",
      "8000/8000 [==============================] - 1s 80us/sample - loss: 0.3344 - accuracy: 0.8627\n",
      "Epoch 20/100\n",
      "8000/8000 [==============================] - 1s 78us/sample - loss: 0.3344 - accuracy: 0.8620\n",
      "Epoch 21/100\n",
      "8000/8000 [==============================] - 1s 78us/sample - loss: 0.3344 - accuracy: 0.8612\n",
      "Epoch 22/100\n",
      "8000/8000 [==============================] - 1s 98us/sample - loss: 0.3339 - accuracy: 0.8621\n",
      "Epoch 23/100\n",
      "8000/8000 [==============================] - 1s 96us/sample - loss: 0.3343 - accuracy: 0.8602\n",
      "Epoch 24/100\n",
      "8000/8000 [==============================] - 1s 86us/sample - loss: 0.3343 - accuracy: 0.8618\n",
      "Epoch 25/100\n",
      "8000/8000 [==============================] - 1s 88us/sample - loss: 0.3339 - accuracy: 0.8624\n",
      "Epoch 26/100\n",
      "8000/8000 [==============================] - 1s 87us/sample - loss: 0.3340 - accuracy: 0.8620\n",
      "Epoch 27/100\n",
      "8000/8000 [==============================] - 1s 85us/sample - loss: 0.3340 - accuracy: 0.8610\n",
      "Epoch 28/100\n",
      "8000/8000 [==============================] - 1s 83us/sample - loss: 0.3337 - accuracy: 0.8608\n",
      "Epoch 29/100\n",
      "8000/8000 [==============================] - 1s 97us/sample - loss: 0.3341 - accuracy: 0.8610\n",
      "Epoch 30/100\n",
      "8000/8000 [==============================] - 1s 89us/sample - loss: 0.3334 - accuracy: 0.8621\n",
      "Epoch 31/100\n",
      "8000/8000 [==============================] - 1s 80us/sample - loss: 0.3337 - accuracy: 0.8629\n",
      "Epoch 32/100\n",
      "8000/8000 [==============================] - 1s 91us/sample - loss: 0.3339 - accuracy: 0.8630\n",
      "Epoch 33/100\n",
      "8000/8000 [==============================] - 1s 99us/sample - loss: 0.3336 - accuracy: 0.8604\n",
      "Epoch 34/100\n",
      "8000/8000 [==============================] - 1s 84us/sample - loss: 0.3340 - accuracy: 0.8611\n",
      "Epoch 35/100\n",
      "8000/8000 [==============================] - 1s 83us/sample - loss: 0.3335 - accuracy: 0.8621\n",
      "Epoch 36/100\n",
      "8000/8000 [==============================] - 1s 88us/sample - loss: 0.3335 - accuracy: 0.8604\n",
      "Epoch 37/100\n",
      "8000/8000 [==============================] - 1s 107us/sample - loss: 0.3335 - accuracy: 0.8609\n",
      "Epoch 38/100\n",
      "8000/8000 [==============================] - 1s 86us/sample - loss: 0.3332 - accuracy: 0.8629\n",
      "Epoch 39/100\n",
      "8000/8000 [==============================] - 1s 85us/sample - loss: 0.3334 - accuracy: 0.8629\n",
      "Epoch 40/100\n",
      "8000/8000 [==============================] - 1s 84us/sample - loss: 0.3338 - accuracy: 0.8616\n",
      "Epoch 41/100\n",
      "8000/8000 [==============================] - 1s 94us/sample - loss: 0.3334 - accuracy: 0.8610\n",
      "Epoch 42/100\n",
      "8000/8000 [==============================] - 1s 91us/sample - loss: 0.3328 - accuracy: 0.8610\n",
      "Epoch 43/100\n",
      "8000/8000 [==============================] - 1s 101us/sample - loss: 0.3334 - accuracy: 0.8624\n",
      "Epoch 44/100\n",
      "8000/8000 [==============================] - 1s 88us/sample - loss: 0.3333 - accuracy: 0.8624\n",
      "Epoch 45/100\n",
      "8000/8000 [==============================] - 1s 93us/sample - loss: 0.3330 - accuracy: 0.8615\n",
      "Epoch 46/100\n",
      "8000/8000 [==============================] - 1s 94us/sample - loss: 0.3335 - accuracy: 0.8614\n",
      "Epoch 47/100\n",
      "8000/8000 [==============================] - 1s 88us/sample - loss: 0.3333 - accuracy: 0.8612\n",
      "Epoch 48/100\n",
      "8000/8000 [==============================] - 1s 90us/sample - loss: 0.3335 - accuracy: 0.8615\n",
      "Epoch 49/100\n",
      "8000/8000 [==============================] - 1s 89us/sample - loss: 0.3331 - accuracy: 0.8615\n",
      "Epoch 50/100\n",
      "8000/8000 [==============================] - 1s 87us/sample - loss: 0.3334 - accuracy: 0.8626\n",
      "Epoch 51/100\n",
      "8000/8000 [==============================] - 1s 84us/sample - loss: 0.3331 - accuracy: 0.8630\n",
      "Epoch 52/100\n",
      "8000/8000 [==============================] - 1s 84us/sample - loss: 0.3333 - accuracy: 0.8619\n",
      "Epoch 53/100\n",
      "8000/8000 [==============================] - 1s 89us/sample - loss: 0.3332 - accuracy: 0.8616\n",
      "Epoch 54/100\n",
      "8000/8000 [==============================] - 1s 89us/sample - loss: 0.3330 - accuracy: 0.8624\n",
      "Epoch 55/100\n",
      "8000/8000 [==============================] - 1s 83us/sample - loss: 0.3330 - accuracy: 0.8641\n",
      "Epoch 56/100\n",
      "8000/8000 [==============================] - 1s 89us/sample - loss: 0.3330 - accuracy: 0.8610\n",
      "Epoch 57/100\n",
      "8000/8000 [==============================] - 1s 86us/sample - loss: 0.3332 - accuracy: 0.8612\n",
      "Epoch 58/100\n",
      "8000/8000 [==============================] - 1s 91us/sample - loss: 0.3332 - accuracy: 0.8627\n",
      "Epoch 59/100\n",
      "8000/8000 [==============================] - 1s 94us/sample - loss: 0.3334 - accuracy: 0.8624\n",
      "Epoch 60/100\n",
      "8000/8000 [==============================] - 1s 88us/sample - loss: 0.3333 - accuracy: 0.8620\n",
      "Epoch 61/100\n",
      "8000/8000 [==============================] - 1s 85us/sample - loss: 0.3329 - accuracy: 0.8621\n",
      "Epoch 62/100\n",
      "8000/8000 [==============================] - 1s 87us/sample - loss: 0.3329 - accuracy: 0.8604\n",
      "Epoch 63/100\n",
      "8000/8000 [==============================] - 1s 90us/sample - loss: 0.3331 - accuracy: 0.8622\n",
      "Epoch 64/100\n",
      "8000/8000 [==============================] - 1s 88us/sample - loss: 0.3329 - accuracy: 0.8618\n",
      "Epoch 65/100\n",
      "8000/8000 [==============================] - 1s 88us/sample - loss: 0.3330 - accuracy: 0.8621\n",
      "Epoch 66/100\n",
      "8000/8000 [==============================] - 1s 97us/sample - loss: 0.3332 - accuracy: 0.8610\n",
      "Epoch 67/100\n",
      "8000/8000 [==============================] - 1s 91us/sample - loss: 0.3329 - accuracy: 0.8610\n",
      "Epoch 68/100\n",
      "8000/8000 [==============================] - 1s 89us/sample - loss: 0.3330 - accuracy: 0.8609\n",
      "Epoch 69/100\n",
      "8000/8000 [==============================] - 1s 93us/sample - loss: 0.3331 - accuracy: 0.8620\n",
      "Epoch 70/100\n",
      "8000/8000 [==============================] - 1s 94us/sample - loss: 0.3328 - accuracy: 0.8637\n",
      "Epoch 71/100\n",
      "8000/8000 [==============================] - 1s 94us/sample - loss: 0.3327 - accuracy: 0.8610\n",
      "Epoch 72/100\n",
      "8000/8000 [==============================] - 1s 94us/sample - loss: 0.3330 - accuracy: 0.8601\n",
      "Epoch 73/100\n",
      "8000/8000 [==============================] - 1s 91us/sample - loss: 0.3331 - accuracy: 0.8596\n",
      "Epoch 74/100\n",
      "8000/8000 [==============================] - 1s 95us/sample - loss: 0.3327 - accuracy: 0.8620\n",
      "Epoch 75/100\n",
      "8000/8000 [==============================] - 1s 94us/sample - loss: 0.3330 - accuracy: 0.8610\n",
      "Epoch 76/100\n",
      "8000/8000 [==============================] - 1s 100us/sample - loss: 0.3328 - accuracy: 0.8612\n",
      "Epoch 77/100\n",
      "8000/8000 [==============================] - 1s 90us/sample - loss: 0.3328 - accuracy: 0.8618\n",
      "Epoch 78/100\n",
      "8000/8000 [==============================] - 1s 97us/sample - loss: 0.3328 - accuracy: 0.8627\n",
      "Epoch 79/100\n",
      "8000/8000 [==============================] - 1s 98us/sample - loss: 0.3327 - accuracy: 0.8609\n",
      "Epoch 80/100\n",
      "8000/8000 [==============================] - 1s 93us/sample - loss: 0.3330 - accuracy: 0.8625\n",
      "Epoch 81/100\n",
      "8000/8000 [==============================] - 1s 90us/sample - loss: 0.3332 - accuracy: 0.8614\n",
      "Epoch 82/100\n",
      "8000/8000 [==============================] - 1s 85us/sample - loss: 0.3330 - accuracy: 0.8624\n",
      "Epoch 83/100\n",
      "8000/8000 [==============================] - 1s 89us/sample - loss: 0.3324 - accuracy: 0.8612\n",
      "Epoch 84/100\n",
      "8000/8000 [==============================] - 1s 92us/sample - loss: 0.3329 - accuracy: 0.8625\n",
      "Epoch 85/100\n",
      "8000/8000 [==============================] - 1s 86us/sample - loss: 0.3326 - accuracy: 0.8618\n",
      "Epoch 86/100\n",
      "8000/8000 [==============================] - 1s 88us/sample - loss: 0.3327 - accuracy: 0.8619\n",
      "Epoch 87/100\n",
      "8000/8000 [==============================] - 1s 92us/sample - loss: 0.3332 - accuracy: 0.8624\n",
      "Epoch 88/100\n",
      "8000/8000 [==============================] - 1s 88us/sample - loss: 0.3328 - accuracy: 0.8630\n",
      "Epoch 89/100\n",
      "8000/8000 [==============================] - 1s 91us/sample - loss: 0.3328 - accuracy: 0.8616\n",
      "Epoch 90/100\n",
      "8000/8000 [==============================] - 1s 94us/sample - loss: 0.3329 - accuracy: 0.8609\n",
      "Epoch 91/100\n",
      "8000/8000 [==============================] - 1s 91us/sample - loss: 0.3328 - accuracy: 0.8614\n",
      "Epoch 92/100\n",
      "8000/8000 [==============================] - 1s 92us/sample - loss: 0.3331 - accuracy: 0.8627\n",
      "Epoch 93/100\n",
      "8000/8000 [==============================] - 1s 90us/sample - loss: 0.3327 - accuracy: 0.8615\n",
      "Epoch 94/100\n",
      "8000/8000 [==============================] - 1s 89us/sample - loss: 0.3325 - accuracy: 0.8620\n",
      "Epoch 95/100\n",
      "8000/8000 [==============================] - 1s 91us/sample - loss: 0.3327 - accuracy: 0.8618\n",
      "Epoch 96/100\n",
      "8000/8000 [==============================] - 1s 87us/sample - loss: 0.3326 - accuracy: 0.8618\n",
      "Epoch 97/100\n",
      "8000/8000 [==============================] - 1s 85us/sample - loss: 0.3331 - accuracy: 0.8616\n",
      "Epoch 98/100\n",
      "8000/8000 [==============================] - 1s 87us/sample - loss: 0.3328 - accuracy: 0.8595\n",
      "Epoch 99/100\n",
      "8000/8000 [==============================] - 1s 86us/sample - loss: 0.3331 - accuracy: 0.8621\n",
      "Epoch 100/100\n",
      "8000/8000 [==============================] - 1s 81us/sample - loss: 0.3325 - accuracy: 0.8611\n"
     ]
    },
    {
     "data": {
      "text/plain": [
       "<tensorflow.python.keras.callbacks.History at 0x7fb0d26ef048>"
      ]
     },
     "execution_count": 96,
     "metadata": {},
     "output_type": "execute_result"
    }
   ],
   "source": [
    "ann.fit(X_train, y_train, batch_size = 10, epochs = 100)"
   ]
  },
  {
   "cell_type": "markdown",
   "metadata": {},
   "source": [
    "We see good improvement in the model performance after hyper-parameter tuning."
   ]
  },
  {
   "cell_type": "markdown",
   "metadata": {},
   "source": [
    "###  Predict the results using 0.5 as a threshold"
   ]
  },
  {
   "cell_type": "code",
   "execution_count": 54,
   "metadata": {},
   "outputs": [
    {
     "name": "stdout",
     "output_type": "stream",
     "text": [
      "[[0 0]\n",
      " [0 0]\n",
      " [0 0]\n",
      " ...\n",
      " [0 0]\n",
      " [0 0]\n",
      " [1 0]]\n"
     ]
    }
   ],
   "source": [
    "# These are predicted probabilities\n",
    "y_predicted = model2.predict(X_test)\n",
    "# Convert Predicted probabilities into binary outcome using 0.5 threshold\n",
    "y_predicted = (y_predicted > 0.5)\n",
    "print(np.concatenate((y_predicted.reshape(len(y_predicted),1), y_test.reshape(len(y_test),1)),1))"
   ]
  },
  {
   "cell_type": "markdown",
   "metadata": {},
   "source": [
    "### Print the Accuracy score and confusion matrix"
   ]
  },
  {
   "cell_type": "code",
   "execution_count": 55,
   "metadata": {},
   "outputs": [
    {
     "name": "stdout",
     "output_type": "stream",
     "text": [
      "Confusion Matrix:\n",
      " [[1531   54]\n",
      " [ 216  199]]\n",
      "Accuracy score:\n",
      " 0.865\n"
     ]
    }
   ],
   "source": [
    "from sklearn.metrics import confusion_matrix, accuracy_score\n",
    "cm = confusion_matrix(y_test, y_predicted)\n",
    "print('Confusion Matrix:\\n',cm)\n",
    "acc = accuracy_score(y_test, y_predicted)\n",
    "print('Accuracy score:\\n',acc)"
   ]
  },
  {
   "cell_type": "markdown",
   "metadata": {},
   "source": [
    "Therefore, Accuracy = 86.5%\n",
    "\n",
    "Total correct predictions that customers stay in bank = 1531\n",
    "\n",
    "Total correct predictions that customers leave the bank = 216\n",
    "\n",
    "Total incorrect predictions that customers stay in the bank = 199\n",
    "\n",
    "Total incorrect predictions that customers leave in the bank = 54"
   ]
  }
 ],
 "metadata": {
  "kernelspec": {
   "display_name": "Python 3",
   "language": "python",
   "name": "python3"
  },
  "language_info": {
   "codemirror_mode": {
    "name": "ipython",
    "version": 3
   },
   "file_extension": ".py",
   "mimetype": "text/x-python",
   "name": "python",
   "nbconvert_exporter": "python",
   "pygments_lexer": "ipython3",
   "version": "3.6.9"
  }
 },
 "nbformat": 4,
 "nbformat_minor": 2
}
